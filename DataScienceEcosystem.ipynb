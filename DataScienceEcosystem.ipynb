{
 "cells": [
  {
   "cell_type": "markdown",
   "id": "26da042b",
   "metadata": {},
   "source": [
    "# Data science tools and ecosystem"
   ]
  },
  {
   "cell_type": "markdown",
   "id": "e1ef7ffa",
   "metadata": {},
   "source": [
    "In this notebook, Data Science Tools and Ecosytem are Summarized"
   ]
  },
  {
   "cell_type": "markdown",
   "id": "3d8874f4",
   "metadata": {},
   "source": [
    "__objectives__"
   ]
  },
  {
   "cell_type": "markdown",
   "id": "6ce3da87",
   "metadata": {},
   "source": [
    "- SQL\n",
    "- Python\n",
    "- Java\n",
    "- R"
   ]
  },
  {
   "cell_type": "markdown",
   "id": "4880a8c6",
   "metadata": {},
   "source": [
    "Some of the popular languages that Data Scientists use are:\n",
    "    1.  Python\n",
    "    2.  SQL\n",
    "    3.  R \n",
    "    4.  C++"
   ]
  },
  {
   "cell_type": "markdown",
   "id": "29e2ba92",
   "metadata": {},
   "source": [
    "Some of the conmmonly used libraries used by Data Scientists include:\n",
    "1. Numpy\n",
    "2. ggplot2\n",
    "3. Tensorflow\n",
    "4. Pandas"
   ]
  },
  {
   "cell_type": "markdown",
   "id": "d53b8fa0",
   "metadata": {},
   "source": [
    "|Data science tools|\n",
    "|------------------|\n",
    "|Jupyter           |\n",
    "|R studio          |\n",
    "|Github            |\n",
    "\n"
   ]
  },
  {
   "cell_type": "markdown",
   "id": "5f7f8491",
   "metadata": {},
   "source": [
    "###Below are a few examples of evaluating arithmetic expressions in Python###"
   ]
  },
  {
   "cell_type": "markdown",
   "id": "b25d3772",
   "metadata": {},
   "source": [
    "This a simple arithmetic expression to mutiply then add integers\n"
   ]
  },
  {
   "cell_type": "code",
   "execution_count": 3,
   "id": "0f073836",
   "metadata": {},
   "outputs": [
    {
     "data": {
      "text/plain": [
       "17"
      ]
     },
     "execution_count": 3,
     "metadata": {},
     "output_type": "execute_result"
    }
   ],
   "source": [
    " (3*4)+5"
   ]
  },
  {
   "cell_type": "code",
   "execution_count": 4,
   "id": "8946b55d",
   "metadata": {},
   "outputs": [],
   "source": [
    "#This will convert 200 minutes to hours by diving by 60"
   ]
  },
  {
   "cell_type": "code",
   "execution_count": 10,
   "id": "4fadd054",
   "metadata": {},
   "outputs": [
    {
     "data": {
      "text/plain": [
       "3.3333333333333335"
      ]
     },
     "execution_count": 10,
     "metadata": {},
     "output_type": "execute_result"
    }
   ],
   "source": [
    "200/60"
   ]
  },
  {
   "cell_type": "markdown",
   "id": "346c2488",
   "metadata": {},
   "source": [
    "## Author\n",
    "Omiete"
   ]
  }
 ],
 "metadata": {
  "kernelspec": {
   "display_name": "Python 3 (ipykernel)",
   "language": "python",
   "name": "python3"
  },
  "language_info": {
   "codemirror_mode": {
    "name": "ipython",
    "version": 3
   },
   "file_extension": ".py",
   "mimetype": "text/x-python",
   "name": "python",
   "nbconvert_exporter": "python",
   "pygments_lexer": "ipython3",
   "version": "3.11.5"
  }
 },
 "nbformat": 4,
 "nbformat_minor": 5
}
